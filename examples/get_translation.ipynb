{
 "cells": [
  {
   "cell_type": "code",
   "execution_count": null,
   "metadata": {},
   "outputs": [],
   "source": [
    "import cv2\n",
    "import numpy as np\n",
    "from scipy.spatial.transform import Rotation as R\n",
    "\n",
    "def transform_to_camera_frame(point, transform_matrix):\n",
    "    \"\"\"将点从机械臂基座坐标系转换到相机坐标系\"\"\"\n",
    "    point_homogeneous = np.append(point, 1)  # 转换为齐次坐标\n",
    "    point_camera = np.dot(transform_matrix, point_homogeneous)\n",
    "    return point_camera[:3]  # 返回非齐次坐标\n",
    "\n",
    "def project_to_image(point, camera_matrix):\n",
    "    \"\"\"将相机坐标系中的 3D 点投影到图像平面\"\"\"\n",
    "    point_homogeneous = np.append(point, 1)  # 转换为齐次坐标\n",
    "    point_image = np.dot(camera_matrix, point_homogeneous[:3])\n",
    "    point_image = point_image / point_image[2]  # 归一化\n",
    "    return point_image[:2]  # 返回图像平面上的 2D 坐标\n",
    "\n",
    "\n",
    "def calculate_gripper_keypoints(eef_pos, eef_quat, gripper_qpos):\n",
    "    \"\"\"\n",
    "    根据 EEF 位姿和夹爪状态计算 PandaGripper 关键点的 3D 坐标。\n",
    "\n",
    "    Args:\n",
    "        eef_pos (np.array): 末端执行器（EEF）的位置 (x, y, z)。\n",
    "        eef_quat (np.array): 末端执行器的姿态 (四元数)。\n",
    "        gripper_qpos (float): 夹爪的关节状态（开合距离）。\n",
    "\n",
    "    Returns:\n",
    "        list: 夹爪关键点的 3D 坐标（例如两个指尖的位置）。\n",
    "    \"\"\"\n",
    "    # PandaGripper 的几何参数\n",
    "    fingertip_offset = 0.05  # 夹爪指尖到 EEF 中心的偏移量（单位：米）\n",
    "    finger_length = 0.1  # 夹爪手指的长度（单位：米）\n",
    "\n",
    "    # 计算夹爪的开口宽度\n",
    "    gripper_width = gripper_qpos * fingertip_offset  # 根据关节状态计算开口宽度\n",
    "\n",
    "    # 获取末端执行器的旋转矩阵\n",
    "    rotation = R.from_quat(eef_quat).as_matrix()\n",
    "\n",
    "    # 计算夹爪指尖的局部坐标\n",
    "    left_fingertip_local = np.array([-gripper_width / 2, 0, -finger_length])\n",
    "    right_fingertip_local = np.array([gripper_width / 2, 0, -finger_length])\n",
    "\n",
    "    # 将局部坐标转换到世界坐标系\n",
    "    left_fingertip_world = eef_pos + np.dot(rotation, left_fingertip_local)\n",
    "    right_fingertip_world = eef_pos + np.dot(rotation, right_fingertip_local)\n",
    "\n",
    "    # 返回关键点的 3D 坐标\n",
    "    keypoints = [left_fingertip_world, right_fingertip_world]\n",
    "    return keypoints\n",
    "\n",
    "def draw_keypoints(image, keypoints):\n",
    "    \"\"\"在图像上绘制关键点\"\"\"\n",
    "    for point in keypoints:\n",
    "        x, y = int(point[0]), int(point[1])\n",
    "        print(x, y)\n",
    "        cv2.circle(image, (x, y), 5, (255, 0, 0), -1)  # 绘制红色圆点\n",
    "\n",
    "# 示例数据\n",
    "import numpy as np\n",
    "eef_pos = np.array([-0.20763411, -0.01452589,  1.17790649])  # EEF 位置（机械臂基座坐标系）\n",
    "eef_quat = np.array([ 9.99571518e-01, -9.23849986e-04, -2.92559594e-02,  1.27680686e-04])  # EEF 姿态（四元数，单位四元数表示无旋转）\n",
    "gripper_qpos = -0.9933217915098023  # 夹爪关节状态（假设为开合距离）\n",
    "# 计算夹爪关键点的 3D 坐标\n",
    "gripper_keypoints_3d = calculate_gripper_keypoints(eef_pos, eef_quat, gripper_qpos)\n",
    "print(gripper_keypoints_3d)"
   ]
  },
  {
   "cell_type": "code",
   "execution_count": null,
   "metadata": {},
   "outputs": [],
   "source": [
    "# 相机参数\n",
    "rotation_matrix_path = \"/storage/qiguojunLab/caojinjin/codes/openpi/dataloader/camera/rotation_matrix.npy\"\n",
    "rotation_matrix = np.load(rotation_matrix_path)\n",
    "translation_vector_path = \"/storage/qiguojunLab/caojinjin/codes/openpi/dataloader/camera/translation_vector.npy\"\n",
    "translation_vector = np.load(translation_vector_path)\n",
    "\n",
    "camera_matrix_path = \"/storage/qiguojunLab/caojinjin/codes/openpi/dataloader/camera/intrinsic_matrix_agentview.npy\"\n",
    "camera_matrix = np.load(camera_matrix_path) # 相机内参\n",
    "camera_name = \"agentview\" # 在examples/libero/.venv/lib/python3.8/site-packages/robosuite/robots/single_arm.py 中controller打断点，然后通过camera = self.sim.model.camera(\"robot0_eye_in_hand\") 得到camera各种参数\n",
    "transform_matrix_path = \"/storage/qiguojunLab/caojinjin/codes/openpi/dataloader/camera/extrinsic_matrix_agentview.npy\"\n",
    "transform_matrix = np.load(transform_matrix_path)  # 相机外参\n",
    "print(transform_matrix)"
   ]
  },
  {
   "cell_type": "code",
   "execution_count": null,
   "metadata": {},
   "outputs": [],
   "source": [
    "# 将关键点转换到相机坐标系并投影到图像平面\n",
    "keypoints_image = []\n",
    "for point in gripper_keypoints_3d:\n",
    "    point_camera = transform_to_camera_frame(point, transform_matrix)\n",
    "    point_image = project_to_image(point_camera, camera_matrix)\n",
    "    keypoints_image.append(point_image)\n",
    "\n",
    "# 加载图像\n",
    "image = cv2.imread(\"/storage/qiguojunLab/caojinjin/codes/openpi/dataloader/data/base_image.png\")\n",
    "\n",
    "# 在图像上绘制关键点\n",
    "draw_keypoints(image, keypoints_image)\n"
   ]
  },
  {
   "cell_type": "code",
   "execution_count": null,
   "metadata": {},
   "outputs": [],
   "source": [
    "import cv2\n",
    "import numpy as np\n",
    "import matplotlib.pyplot as plt\n",
    "\n",
    "# 假设 image 是 OpenCV 格式的图像（BGR 格式）\n",
    "# 将 BGR 图像转换为 RGB 格式\n",
    "image_rgb = cv2.cvtColor(image, cv2.COLOR_BGR2RGB)\n",
    "\n",
    "# 使用 matplotlib 显示图像\n",
    "plt.figure(figsize=(10, 10))  # 设置图像显示大小\n",
    "plt.imshow(image_rgb)\n",
    "plt.title(\"Gripper Keypoints\")  # 设置图像标题\n",
    "plt.axis('off')  # 不显示坐标轴\n",
    "plt.show()"
   ]
  },
  {
   "cell_type": "markdown",
   "metadata": {},
   "source": [
    "# 2. how to get rotation_matrix & translation_vector "
   ]
  },
  {
   "cell_type": "code",
   "execution_count": null,
   "metadata": {},
   "outputs": [],
   "source": [
    "from robosuite.utils.camera_utils import get_camera_intrinsic_matrix, get_camera_extrinsic_matrix \n",
    "intrinsic_matrix = get_camera_intrinsic_matrix(self.sim, \"frontview\", 256, 256)\n",
    "extrinsic_matrix = get_camera_extrinsic_matrix(self.sim, \"frontview\")\n"
   ]
  },
  {
   "cell_type": "code",
   "execution_count": null,
   "metadata": {},
   "outputs": [],
   "source": [
    "output_path = \"/storage/qiguojunLab/caojinjin/codes/openpi/dataloader/camera/extrinsic_matrix.npy\"\n",
    "np.save(extrinsic_matrix, output_path)"
   ]
  },
  {
   "cell_type": "code",
   "execution_count": null,
   "metadata": {},
   "outputs": [],
   "source": [
    "import numpy as np\n",
    "# eef_pos = np.array([-0.20763411, -0.01452589,  1.17790649, 1])  # EEF 位置（机械臂基座坐标系）\n",
    "eef_pos = np.array([-0.20791166, -0.01446029,  1.17826226, 1])\n",
    "camera_matrix_path = \"/storage/qiguojunLab/caojinjin/codes/openpi/dataloader/camera/intrinsic_matrix_agentview.npy\"\n",
    "intrinsic_matrix = np.load(camera_matrix_path) # 相机内参\n",
    "camera_name = \"agentview\" # 在examples/libero/.venv/lib/python3.8/site-packages/robosuite/robots/single_arm.py 中controller打断点，然后通过camera = self.sim.model.camera(\"robot0_eye_in_hand\") 得到camera各种参数\n",
    "transform_matrix_path = \"/storage/qiguojunLab/caojinjin/codes/openpi/dataloader/camera/extrinsic_matrix_agentview.npy\"\n",
    "extrinsic_matrix = np.load(transform_matrix_path)  # 相机外参\n",
    "print(intrinsic_matrix )"
   ]
  },
  {
   "cell_type": "code",
   "execution_count": null,
   "metadata": {},
   "outputs": [],
   "source": [
    "intrinsic_matrix = np.array([[309.01933598,   0.        , 128.        ],\n",
    "       [  0.        , 309.01933598, 128.        ],\n",
    "       [  0.        ,   0.        ,   1.        ]])\n",
    "extrinsic_matrix = np.array([[-5.55111512e-17, -2.58174524e-01,  9.66098295e-01,\n",
    "         1.00000000e+00],\n",
    "       [ 1.00000000e+00,  0.00000000e+00,  0.00000000e+00,\n",
    "         0.00000000e+00],\n",
    "       [ 0.00000000e+00,  9.66098295e-01,  2.58174524e-01,\n",
    "         1.48000000e+00],\n",
    "       [ 0.00000000e+00,  0.00000000e+00,  0.00000000e+00,\n",
    "         1.00000000e+00]])\n",
    "eef_pos = np.array([-0.20763411, -0.01452589,  1.17790649, 1])"
   ]
  },
  {
   "cell_type": "code",
   "execution_count": null,
   "metadata": {},
   "outputs": [],
   "source": [
    "eef_pos_camera = np.dot(extrinsic_matrix, eef_pos)\n",
    "eef_pos_camera"
   ]
  },
  {
   "cell_type": "code",
   "execution_count": null,
   "metadata": {},
   "outputs": [],
   "source": [
    "eef_pos_2d = np.dot(intrinsic_matrix, eef_pos_camera[:3])\n",
    "eef_pos_2d = eef_pos_2d / eef_pos_2d[2]  # 归一化\n",
    "eef_pos_2d"
   ]
  },
  {
   "cell_type": "code",
   "execution_count": null,
   "metadata": {},
   "outputs": [],
   "source": [
    "from robosuite.utils.camera_utils import get_camera_transform_matrix, project_points_from_world_to_camera\n",
    "\n",
    "point = obs['robot0_eef_pos']\n",
    "img = wrist_img\n",
    "path = \"/storage/qiguojunLab/caojinjin/codes/openpi/dataloader/data/wrist_image_new2.png\"\n",
    "np.save(path, img)\n",
    "transform_matrix = get_camera_transform_matrix(env.sim, \"robot0_eye_in_hand\", 256, 256)\n",
    "tmp = project_points_from_world_to_camera(point, transform_matrix, 256, 256)"
   ]
  },
  {
   "cell_type": "code",
   "execution_count": 123,
   "metadata": {},
   "outputs": [
    {
     "data": {
      "image/jpeg": "[encoded data removed]",
      "text/plain": [
       "<IPython.core.display.Image object>"
      ]
     },
     "metadata": {},
     "output_type": "display_data"
    }
   ],
   "source": [
    "import cv2\n",
    "from IPython.display import display, Image\n",
    "\n",
    "# 假设 image 是你获取的图像\n",
    "image = cv2.imread(\"/storage/qiguojunLab/caojinjin/codes/openpi/dataloader/data/wrist_image_new2.png\")\n",
    "\n",
    "# 获取2D坐标\n",
    "# x, y = int(eef_pos_2d[0]), int(eef_pos_2d[1])\n",
    "x, y = int(109), int(120)\n",
    "x, y = int(112), int(54)\n",
    "x, y = int(135), int(191)\n",
    "y, x = int(214), int(128)\n",
    "# 在图像上绘制红色圆点\n",
    "cv2.circle(image, (x, y), 5, (0, 0, 255), -1)  # 红色圆点，半径为5\n",
    "\n",
    "# 将图像编码为 JPEG 格式\n",
    "_, encoded_image = cv2.imencode('.jpg', image)\n",
    "\n",
    "# 使用 IPython.display 显示图像\n",
    "display(Image(data=encoded_image.tobytes()))"
   ]
  },
  {
   "cell_type": "code",
   "execution_count": null,
   "metadata": {},
   "outputs": [],
   "source": [
    "from robosuite.utils.camera_utils import get_camera_transform_matrix, project_points_from_world_to_camera\n",
    "import cv2 \n",
    "\n",
    "point = obs['robot0_eef_pos']\n",
    "path = \"/storage/qiguojunLab/caojinjin/codes/openpi/dataloader/data/image_new2.png\"\n",
    "tmp_img = np.ascontiguousarray(obs[\"agentview_image\"][::-1, ::-1])\n",
    "cv2.imwrite(path, img)\n",
    "transform_matrix = get_camera_transform_matrix(env.sim, \"agentview\", 256, 256)\n",
    "tmp = project_points_from_world_to_camera(point, transform_matrix, 256, 256)"
   ]
  },
  {
   "cell_type": "code",
   "execution_count": 145,
   "metadata": {},
   "outputs": [
    {
     "name": "stderr",
     "output_type": "stream",
     "text": [
      "[ WARN:0@42200.722] global loadsave.cpp:241 findDecoder imread_('/storage/qiguojunLab/caojinjin/codes/openpi/dataloader/camera_img/image_new_11.png'): can't open/read file: check file path/integrity\n"
     ]
    },
    {
     "ename": "error",
     "evalue": "OpenCV(4.10.0) /io/opencv/modules/imgcodecs/src/loadsave.cpp:1134: error: (-215:Assertion failed) !image.empty() in function 'imencode'\n",
     "output_type": "error",
     "traceback": [
      "\u001b[0;31m---------------------------------------------------------------------------\u001b[0m",
      "\u001b[0;31merror\u001b[0m                                     Traceback (most recent call last)",
      "Cell \u001b[0;32mIn[145], line 17\u001b[0m\n\u001b[1;32m     14\u001b[0m cv2\u001b[38;5;241m.\u001b[39mcircle(image, (x, y), \u001b[38;5;241m5\u001b[39m, (\u001b[38;5;241m0\u001b[39m, \u001b[38;5;241m0\u001b[39m, \u001b[38;5;241m255\u001b[39m), \u001b[38;5;241m-\u001b[39m\u001b[38;5;241m1\u001b[39m)  \u001b[38;5;66;03m# 红色圆点，半径为5\u001b[39;00m\n\u001b[1;32m     16\u001b[0m \u001b[38;5;66;03m# 将图像编码为 JPEG 格式\u001b[39;00m\n\u001b[0;32m---> 17\u001b[0m _, encoded_image \u001b[38;5;241m=\u001b[39m \u001b[43mcv2\u001b[49m\u001b[38;5;241;43m.\u001b[39;49m\u001b[43mimencode\u001b[49m\u001b[43m(\u001b[49m\u001b[38;5;124;43m'\u001b[39;49m\u001b[38;5;124;43m.jpg\u001b[39;49m\u001b[38;5;124;43m'\u001b[39;49m\u001b[43m,\u001b[49m\u001b[43m \u001b[49m\u001b[43mimage\u001b[49m\u001b[43m)\u001b[49m\n\u001b[1;32m     19\u001b[0m \u001b[38;5;66;03m# 使用 IPython.display 显示图像\u001b[39;00m\n\u001b[1;32m     20\u001b[0m display(Image(data\u001b[38;5;241m=\u001b[39mencoded_image\u001b[38;5;241m.\u001b[39mtobytes()))\n",
      "\u001b[0;31merror\u001b[0m: OpenCV(4.10.0) /io/opencv/modules/imgcodecs/src/loadsave.cpp:1134: error: (-215:Assertion failed) !image.empty() in function 'imencode'\n"
     ]
    }
   ],
   "source": [
    "import cv2\n",
    "from IPython.display import display, Image\n",
    "\n",
    "# 假设 image 是你获取的图像\n",
    "image = cv2.imread(\"/storage/qiguojunLab/caojinjin/codes/openpi/dataloader/camera_img/image_new_11.png\")\n",
    "\n",
    "# 获取2D坐标\n",
    "# x, y = int(eef_pos_2d[0]), int(eef_pos_2d[1])\n",
    "x, y = int(109), int(120)\n",
    "x, y = int(112), int(54)\n",
    "x, y = int(135), int(191)\n",
    "y, x = int(60), int(123)\n",
    "# 在图像上绘制红色圆点\n",
    "cv2.circle(image, (x, y), 5, (0, 0, 255), -1)  # 红色圆点，半径为5\n",
    "\n",
    "# 将图像编码为 JPEG 格式\n",
    "_, encoded_image = cv2.imencode('.jpg', image)\n",
    "\n",
    "# 使用 IPython.display 显示图像\n",
    "display(Image(data=encoded_image.tobytes()))"
   ]
  },
  {
   "cell_type": "code",
   "execution_count": 134,
   "metadata": {},
   "outputs": [
    {
     "data": {
      "text/plain": [
       "True"
      ]
     },
     "execution_count": 134,
     "metadata": {},
     "output_type": "execute_result"
    }
   ],
   "source": [
    "path = \"/storage/qiguojunLab/caojinjin/codes/openpi/dataloader/data/test.png\"\n",
    "cv2.imwrite(path, image)"
   ]
  },
  {
   "cell_type": "markdown",
   "metadata": {},
   "source": [
    "# 3. try remoteDetc"
   ]
  },
  {
   "cell_type": "code",
   "execution_count": null,
   "metadata": {},
   "outputs": [],
   "source": [
    "import cv2 \n",
    "kernel3 = np.ones((5, 5), np.float32) / 25\n",
    "frame = cv2.imread(\"/storage/qiguojunLab/caojinjin/codes/openpi/dataloader/data/base_image.png\")\n",
    "gray = cv2.cvtColor(frame, cv2.COLOR_BGR2GRAY)\n",
    "gray = cv2.filter2D(gray, -1, kernel3)\n",
    "\n",
    "\n",
    "_, encoded_frame = cv2.imencode('.jpg', gray)\n",
    "\n",
    "# 使用 IPython.display 显示图像\n",
    "display(Image(data=encoded_frame.tobytes()))"
   ]
  }
 ],
 "metadata": {
  "kernelspec": {
   "display_name": ".venv",
   "language": "python",
   "name": "python3"
  },
  "language_info": {
   "codemirror_mode": {
    "name": "ipython",
    "version": 3
   },
   "file_extension": ".py",
   "mimetype": "text/x-python",
   "name": "python",
   "nbconvert_exporter": "python",
   "pygments_lexer": "ipython3",
   "version": "3.11.11"
  }
 },
 "nbformat": 4,
 "nbformat_minor": 2
}
